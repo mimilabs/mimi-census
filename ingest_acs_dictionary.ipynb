{
 "cells": [
  {
   "cell_type": "code",
   "execution_count": 0,
   "metadata": {
    "application/vnd.databricks.v1+cell": {
     "cellMetadata": {
      "byteLimit": 2048000,
      "rowLimit": 10000
     },
     "inputWidgets": {},
     "nuid": "26fbbb96-0a6f-4554-9197-b4ebbe9c41d5",
     "showTitle": false,
     "tableResultSettingsMap": {},
     "title": ""
    }
   },
   "outputs": [],
   "source": [
    "%run /Workspace/Repos/yubin.park@mimilabs.ai/mimi-common-utils/ingestion_utils"
   ]
  },
  {
   "cell_type": "code",
   "execution_count": 0,
   "metadata": {
    "application/vnd.databricks.v1+cell": {
     "cellMetadata": {
      "byteLimit": 2048000,
      "rowLimit": 10000
     },
     "inputWidgets": {},
     "nuid": "7c78f1b5-e89f-4c3a-b96c-b1c392431d21",
     "showTitle": false,
     "tableResultSettingsMap": {},
     "title": ""
    }
   },
   "outputs": [],
   "source": [
    "from pathlib import Path\n",
    "import pandas as pd"
   ]
  },
  {
   "cell_type": "code",
   "execution_count": 0,
   "metadata": {
    "application/vnd.databricks.v1+cell": {
     "cellMetadata": {
      "byteLimit": 2048000,
      "rowLimit": 10000
     },
     "inputWidgets": {},
     "nuid": "367d43ec-8423-4530-a2ba-ca1d0ddac28e",
     "showTitle": false,
     "tableResultSettingsMap": {},
     "title": ""
    }
   },
   "outputs": [],
   "source": [
    "volumepath = \"/Volumes/mimi_ws_1/census/src/acs/2023/acs5/county/\""
   ]
  },
  {
   "cell_type": "code",
   "execution_count": 0,
   "metadata": {
    "application/vnd.databricks.v1+cell": {
     "cellMetadata": {
      "byteLimit": 2048000,
      "rowLimit": 10000
     },
     "inputWidgets": {},
     "nuid": "27237cca-f5aa-419f-8a07-c8621b3ed133",
     "showTitle": false,
     "tableResultSettingsMap": {},
     "title": ""
    }
   },
   "outputs": [],
   "source": [
    "volumepath = \"/Volumes/mimi_ws_1/census/src/acs/2023/acs5/dictionary/\"\n",
    "\n",
    "# from: https://www.census.gov/programs-surveys/acs/technical-documentation/table-shells.html\n",
    "#for filepath in Path(volumepath).glob('*.xlsx'):\n",
    "#    pdf = pd.read_excel(filepath, dtype=str)"
   ]
  },
  {
   "cell_type": "code",
   "execution_count": 0,
   "metadata": {
    "application/vnd.databricks.v1+cell": {
     "cellMetadata": {
      "byteLimit": 2048000,
      "rowLimit": 10000
     },
     "inputWidgets": {},
     "nuid": "9bb1180d-f6c2-4f68-aeba-e16928ac4c5b",
     "showTitle": false,
     "tableResultSettingsMap": {},
     "title": ""
    }
   },
   "outputs": [],
   "source": [
    "for filepath in Path(volumepath).glob('*.csv'):\n",
    "    pdf = pd.read_csv(filepath, dtype=str)\n",
    "    pdf['mimi_src_file_date'] = parse('2023-12-31').date()\n",
    "    pdf['mimi_src_file_name'] = filepath.name\n",
    "    pdf['mimi_dlt_load_date'] = datetime.today().date()\n",
    "    (\n",
    "        spark.createDataFrame(pdf)\n",
    "            .write\n",
    "            .mode('overwrite')\n",
    "            .option('replaceWhere', f\"mimi_src_file_name = '{filepath.name}'\")\n",
    "            .saveAsTable('mimi_ws_1.census.acs5_table_shells')\n",
    "    )"
   ]
  },
  {
   "cell_type": "code",
   "execution_count": 0,
   "metadata": {
    "application/vnd.databricks.v1+cell": {
     "cellMetadata": {
      "byteLimit": 2048000,
      "implicitDf": true,
      "rowLimit": 10000
     },
     "inputWidgets": {},
     "nuid": "bf569fa3-8e8c-475a-9d11-a6e6dbcf8973",
     "showTitle": false,
     "tableResultSettingsMap": {},
     "title": ""
    }
   },
   "outputs": [],
   "source": [
    "%sql\n",
    "COMMENT ON TABLE mimi_ws_1.census.acs5_table_shells IS '# [American Community Survey (ACS) 5 Years Table Shells](https://www.census.gov/programs-surveys/acs/technical-documentation/table-shells.html) | resolution: variable, interval: yearly\n",
    "\n",
    "';"
   ]
  },
  {
   "cell_type": "code",
   "execution_count": 0,
   "metadata": {
    "application/vnd.databricks.v1+cell": {
     "cellMetadata": {},
     "inputWidgets": {},
     "nuid": "4166afe5-440a-4223-9447-8c3409557f7b",
     "showTitle": false,
     "tableResultSettingsMap": {},
     "title": ""
    }
   },
   "outputs": [],
   "source": []
  }
 ],
 "metadata": {
  "application/vnd.databricks.v1+notebook": {
   "computePreferences": null,
   "dashboards": [],
   "environmentMetadata": {
    "base_environment": "",
    "environment_version": "2"
   },
   "inputWidgetPreferences": null,
   "language": "python",
   "notebookMetadata": {
    "mostRecentlyExecutedCommandWithImplicitDF": {
     "commandId": 7323146287845352,
     "dataframes": [
      "_sqldf"
     ]
    },
    "pythonIndentUnit": 4
   },
   "notebookName": "ingest_acs_dictionary",
   "widgets": {}
  },
  "language_info": {
   "name": "python"
  }
 },
 "nbformat": 4,
 "nbformat_minor": 0
}
